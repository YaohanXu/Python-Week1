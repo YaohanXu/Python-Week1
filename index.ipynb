{
 "cells": [
  {
   "cell_type": "markdown",
   "id": "969fe735-2acc-4e8a-8b6e-4e7090645578",
   "metadata": {},
   "source": [
    "# Welcome to MUSA 550:<br>Geospatial Data Science in Python"
   ]
  },
  {
   "cell_type": "markdown",
   "id": "d1a20417-2138-468f-aaa0-7de7acd0b25e",
   "metadata": {},
   "source": [
    "## Topics\n",
    "\n",
    "- Course Logistics\n",
    "- Using Jupyter Notebooks\n",
    "- Introduction to Pandas\n",
    "\n",
    "## Initial Survey\n",
    "\n",
    "what stresses you the most???\n",
    "\n",
    "<img src=\"imgs/stress.png\" width=300></img>\n",
    "\n",
    "\n",
    "what are you interested in the most???\n",
    "\n",
    "<img src=\"imgs/interest.png\" width=300></img>\n",
    "\n",
    "\n",
    "\n",
    "## Recommended Readings\n",
    "- [Course syllabus](https://musa-550-fall-2024.github.io/course/syllabus.html)\n",
    "- [Guide for installing Python and initial set up](https://musa-550-fall-2024.github.io/course/resource/install.html)\n",
    "- [Guide for mamba/conda](https://musa-550-fall-2024.github.io/resource/mamba.html)\n",
    "  - Check out [this 20-minute guide](https://docs.conda.io/projects/conda/en/latest/user-guide/getting-started.html) on the conda docs\n",
    "- [Guide for Jupyter notebooks and JupyterLab](https://musa-550-fall-2024.github.io/course/resource/jupyter.html)\n",
    "  - Good readings on the Jupyter docs include:\n",
    "    - [Starting JupyterLab](https://jupyterlab.readthedocs.io/en/stable/getting_started/starting.html)\n",
    "    - [The JupyterLab interface](https://jupyterlab.readthedocs.io/en/stable/user/interface.html)\n",
    "    - [The structure of a notebook document](https://jupyter-notebook.readthedocs.io/en/stable/notebook.html#structure-of-a-notebook-document)\n",
    "    - [The notebook workflow](https://jupyter-notebook.readthedocs.io/en/stable/notebook.html#basic-workflow)\n",
    "    - [Working with notebooks in JupyterLab](https://jupyterlab.readthedocs.io/en/stable/user/notebook.html)\n",
    "    - [Working with files](https://jupyterlab.readthedocs.io/en/stable/user/files.html)\n",
    "- Recommended tutorial for students with little Python background: [Practical Python Programming](https://dabeaz-course.github.io/practical-python/Notes/Contents.html)\n",
    "\n",
    "\n",
    "\n",
    "### Python tutorials & DataCamp access\n",
    "A number of Python resources are listed on [the course website](https://musa-550-fall-2024.github.io/course/resource/python.html). In particular,  DataCamp is providing 6 months of complimentary access to its courses for students in MUSA 550. Whether you have experience with Python or not, this is a great opportunity to learn the basics of Python and practice your skills.\n",
    "\n",
    "It is strongly recommended that you watch some or all of the introductory videos below to build a stronger Python foundation for the semester. The more advanced, intermediate courses are also great — the more the merrier!\n",
    "\n",
    "Check out [the resources page](https://musa-550-fall-2024.github.io/course/resource/python.html#datacamp-courses) for more\n",
    "information, including how to sign up.\n",
    "\n",
    "\n",
    "## Additional materials\n",
    "\n",
    "### Documentation\n",
    "- Git and GitHub:\n",
    "  - [Setting up git](https://help.github.com/articles/set-up-git/)\n",
    "  - [Managing files on GitHub](https://help.github.com/articles/managing-files-on-github/)\n",
    "- [Conda user guide](https://docs.conda.io/projects/conda/en/latest/user-guide/getting-started.html)\n",
    "- [Jupyter notebook](https://jupyter-notebook.readthedocs.io)\n",
    "- [Guide to Markdown in notebook cells](https://jupyter-notebook.readthedocs.io/en/stable/examples/Notebook/Working%20With%20Markdown%20Cells.html)\n",
    "- [Binder Documentation](https://mybinder.readthedocs.io/en/latest/)\n",
    "- [pandas documentation](https://pandas.pydata.org/pandas-docs/stable/)\n",
    "- [matplotlib documentation](https://matplotlib.org/)\n",
    "\n",
    "### Readings/reference\n",
    "\n",
    "- [StackOverflow: The Incredible Growth of Python](https://stackoverflow.blog/2017/09/06/incredible-growth-python/)\n",
    "- [2015 Funding Proposal for the Jupyter Notebook](https://blog.jupyter.org/project-jupyter-computational-narratives-as-the-engine-of-collaborative-data-science-2b5fb94c3c58)\n",
    "- [A history of Jupyter Notebooks by its founder](https://web.archive.org/web/20180320053812/http://blog.fperez.org/2012/01/ipython-notebook-historical.html)\n",
    "- [Google's Colab](https://colab.research.google.com/notebooks/welcome.ipynb)\n",
    "- [Tidy Data](https://en.wikipedia.org/wiki/Tidy_data)\n",
    "- [Joining Datasets](./joining_infographic.jpg)\n",
    "- [ZIllow Data](https://www.zillow.com/research/data/)\n",
    "- [Introduction to writing your first Python program](https://dabeaz-course.github.io/practical-python/Notes/01_Introduction/02_Hello_world.html)\n",
    "- [Visual Studio Code](https://code.visualstudio.com/download)"
   ]
  },
  {
   "cell_type": "code",
   "execution_count": null,
   "id": "51a0373b-46d9-49e0-943a-71ef343fe032",
   "metadata": {},
   "outputs": [],
   "source": []
  }
 ],
 "metadata": {
  "kernelspec": {
   "display_name": "Python 3 (ipykernel)",
   "language": "python",
   "name": "python3"
  },
  "language_info": {
   "codemirror_mode": {
    "name": "ipython",
    "version": 3
   },
   "file_extension": ".py",
   "mimetype": "text/x-python",
   "name": "python",
   "nbconvert_exporter": "python",
   "pygments_lexer": "ipython3",
   "version": "3.10.12"
  }
 },
 "nbformat": 4,
 "nbformat_minor": 5
}
